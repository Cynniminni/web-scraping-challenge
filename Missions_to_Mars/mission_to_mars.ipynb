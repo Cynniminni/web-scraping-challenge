{
 "cells": [
  {
   "cell_type": "code",
   "execution_count": null,
   "metadata": {},
   "outputs": [],
   "source": [
    "# Install dependencies\n",
    "! pip install beautifulsoup4\n",
    "! pip install pandas\n",
    "! pip install requests\n",
    "! pip install splinter"
   ]
  },
  {
   "cell_type": "code",
   "execution_count": 3,
   "metadata": {},
   "outputs": [],
   "source": [
    "# Mars News Site: https://redplanetscience.com\n",
    "# Get latest news title and paragraph text\n",
    "news_title = \"NASA to Broadcast Mars 2020 Perseverance Launch, Prelaunch Activities\"\n",
    "news_p = \"Starting July 27, news activities will cover everything from mission engineering and science to returning samples from Mars to, of course, the launch itself.\""
   ]
  },
  {
   "cell_type": "code",
   "execution_count": null,
   "metadata": {},
   "outputs": [],
   "source": [
    "# JPL Mars Space Images - Featured Image: https://spaceimages-mars.com\n",
    "featured_image_url = \"\""
   ]
  }
 ],
 "metadata": {
  "interpreter": {
   "hash": "1df487036755f0259a1d9037dcfe52f61a6deaec9b2b99ff46ad261589736629"
  },
  "kernelspec": {
   "display_name": "Python 3.8.7 64-bit",
   "language": "python",
   "name": "python3"
  },
  "language_info": {
   "codemirror_mode": {
    "name": "ipython",
    "version": 3
   },
   "file_extension": ".py",
   "mimetype": "text/x-python",
   "name": "python",
   "nbconvert_exporter": "python",
   "pygments_lexer": "ipython3",
   "version": "3.8.7"
  },
  "orig_nbformat": 4
 },
 "nbformat": 4,
 "nbformat_minor": 2
}
