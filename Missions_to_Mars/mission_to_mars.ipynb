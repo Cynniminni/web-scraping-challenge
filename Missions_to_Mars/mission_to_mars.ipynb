{
 "cells": [
  {
   "cell_type": "code",
   "execution_count": 38,
   "metadata": {},
   "outputs": [
    {
     "name": "stdout",
     "output_type": "stream",
     "text": [
      "Installing dependencies from Pipfile.lock (db49b1)...\n",
      "\n"
     ]
    },
    {
     "name": "stderr",
     "output_type": "stream",
     "text": [
      "Courtesy Notice: Pipenv found itself running within a virtual environment, so it will automatically use that environment, instead of creating its own for any project. You can set PIPENV_IGNORE_VIRTUALENVS=1 to force pipenv to ignore that environment and create its own instead. You can set PIPENV_VERBOSITY=-1 to suppress this warning.\n",
      "\n"
     ]
    }
   ],
   "source": [
    "# Install dependencies from Pipfile\n",
    "! pipenv install"
   ]
  },
  {
   "cell_type": "code",
   "execution_count": 40,
   "metadata": {},
   "outputs": [],
   "source": [
    "# Import dependencies\n",
    "import pandas as pd\n",
    "from splinter import Browser\n",
    "from selenium import webdriver\n",
    "from selenium.webdriver.common.by import By\n",
    "from bs4 import BeautifulSoup"
   ]
  },
  {
   "cell_type": "code",
   "execution_count": 4,
   "metadata": {},
   "outputs": [],
   "source": [
    "# Define some functions\n",
    "# Save an html file\n",
    "def save_html(html, path):\n",
    "    with open(path, 'w') as file:\n",
    "        file.write(html)\n",
    "\n",
    "# Read local html file\n",
    "def open_html(path):\n",
    "    with open(path, 'r') as file:\n",
    "        return file.read()"
   ]
  },
  {
   "cell_type": "code",
   "execution_count": 5,
   "metadata": {},
   "outputs": [],
   "source": [
    "\n",
    "# Mars News Site: https://redplanetscience.com - Using selenium\n",
    "driver = webdriver.Chrome()\n",
    "url = \"https://redplanetscience.com\"\n",
    "driver.get(url)\n",
    "soup = BeautifulSoup(driver.page_source, 'html.parser')\n",
    "driver.quit()"
   ]
  },
  {
   "cell_type": "code",
   "execution_count": 84,
   "metadata": {},
   "outputs": [
    {
     "name": "stdout",
     "output_type": "stream",
     "text": [
      "News title = Heat and Dust Help Launch Martian Water Into Space, Scientists Find\n",
      "News p = Scientists using an instrument aboard NASA’s Mars Atmosphere and Volatile EvolutioN, or MAVEN, spacecraft have discovered that water vapor near the surface of the Red Planet is lofted higher into the atmosphere than anyone expected was possible. \n"
     ]
    }
   ],
   "source": [
    "# Pull out the first news title and news paragraph\n",
    "news_title = soup.select_one('.content_title').text\n",
    "news_p = soup.select_one('.article_teaser_body').text\n",
    "print(f\"News title = {news_title}\")\n",
    "print(f\"News p = {news_p}\")"
   ]
  },
  {
   "cell_type": "code",
   "execution_count": 7,
   "metadata": {},
   "outputs": [
    {
     "data": {
      "text/plain": [
       "'https://spaceimages-mars.com/image/featured/mars2.jpg'"
      ]
     },
     "execution_count": 7,
     "metadata": {},
     "output_type": "execute_result"
    }
   ],
   "source": [
    "# JPL Mars Space Images - Featured Image: https://spaceimages-mars.com - using Splinter\n",
    "url = \"https://spaceimages-mars.com\"\n",
    "browser = Browser('chrome')\n",
    "browser.visit(url)\n",
    "featured_image_url = browser.find_by_xpath('/html/body/div[1]/img').first['src']\n",
    "browser.quit()\n",
    "featured_image_url"
   ]
  },
  {
   "cell_type": "code",
   "execution_count": null,
   "metadata": {},
   "outputs": [],
   "source": [
    "# Mars Facts webpage - https://galaxyfacts-mars.com\n",
    "url = \"https://galaxyfacts-mars.com\"\n",
    "\n",
    "# Use pandas to pull web page, this is returned as a list of DataFrames\n",
    "mars_facts = pd.read_html(url)\n",
    "\n",
    "# Combine list of DataFrames into one DataFrame\n",
    "mars_facts_data_frame = pd.concat(mars_facts)\n",
    "\n",
    "# Use Pandas to convert the data to a HTML table string.\n",
    "mars_facts_html = mars_facts_data_frame.to_html()\n",
    "print(mars_facts_html)"
   ]
  },
  {
   "cell_type": "code",
   "execution_count": 86,
   "metadata": {},
   "outputs": [
    {
     "name": "stdout",
     "output_type": "stream",
     "text": [
      "List of links to click on:\n",
      "https://marshemispheres.com/cerberus.html\n",
      "https://marshemispheres.com/schiaparelli.html\n",
      "https://marshemispheres.com/syrtis.html\n",
      "https://marshemispheres.com/valles.html\n",
      "Hemisphere Image URLS\n",
      "[{'title': 'Cerberus Hemisphere Enhanced', 'img_url': 'https://marshemispheres.com/images/full.jpg'}, {'title': 'Schiaparelli Hemisphere Enhanced', 'img_url': 'https://marshemispheres.com/images/schiaparelli_enhanced-full.jpg'}, {'title': 'Syrtis Major Hemisphere Enhanced', 'img_url': 'https://marshemispheres.com/images/syrtis_major_enhanced-full.jpg'}, {'title': 'Valles Marineris Hemisphere Enhanced', 'img_url': 'https://marshemispheres.com/images/valles_marineris_enhanced-full.jpg'}]\n"
     ]
    },
    {
     "data": {
      "text/plain": [
       "[{'title': 'Cerberus Hemisphere Enhanced',\n",
       "  'img_url': 'https://marshemispheres.com/images/full.jpg'},\n",
       " {'title': 'Schiaparelli Hemisphere Enhanced',\n",
       "  'img_url': 'https://marshemispheres.com/images/schiaparelli_enhanced-full.jpg'},\n",
       " {'title': 'Syrtis Major Hemisphere Enhanced',\n",
       "  'img_url': 'https://marshemispheres.com/images/syrtis_major_enhanced-full.jpg'},\n",
       " {'title': 'Valles Marineris Hemisphere Enhanced',\n",
       "  'img_url': 'https://marshemispheres.com/images/valles_marineris_enhanced-full.jpg'}]"
      ]
     },
     "execution_count": 86,
     "metadata": {},
     "output_type": "execute_result"
    }
   ],
   "source": [
    "# Mars Hemispheres - https://marshemispheres.com\n",
    "url = \"https://marshemispheres.com\"\n",
    "\n",
    "# Open browser and go to the web page\n",
    "driver = webdriver.Chrome()\n",
    "driver.get(url)\n",
    "\n",
    "# Get all <a> elements\n",
    "links_list = driver.find_elements(by=By.TAG_NAME, value=\"a\")\n",
    "\n",
    "filtered_links_list = []\n",
    "for link in links_list:\n",
    "    # Only deal with the ones that contain a partial url of \".html\"\n",
    "    # And only keep the ones that has non-zero size values\n",
    "    href = link.get_attribute(name=\"href\")\n",
    "    size = link.size\n",
    "    if (\".html\" in href) and (size[\"height\"] and size[\"width\"]):\n",
    "        filtered_links_list.append(href)\n",
    "\n",
    "print(\"List of links to click on:\")\n",
    "print(\"\\n\".join(filtered_links_list))\n",
    "\n",
    "hemisphere_image_urls = []\n",
    "for url in filtered_links_list:\n",
    "    # Initialize data to add later\n",
    "    data = {}\n",
    "\n",
    "    # Navigate to each link\n",
    "    driver.get(url)\n",
    "\n",
    "    # Get the corresponding title\n",
    "    title = driver.find_element(by=By.CLASS_NAME, value=\"title\")\n",
    "    data[\"title\"] = title.text\n",
    "\n",
    "    # Get list of all <a> tags\n",
    "    a_links_list = driver.find_elements(by=By.TAG_NAME, value=\"a\")\n",
    "\n",
    "    # Only look at the <a> tag that has partial url of \"full.jpg\"\n",
    "    for a_link in a_links_list:\n",
    "        href = a_link.get_attribute(name=\"href\")\n",
    "        if \"full.jpg\" in href:\n",
    "            data[\"img_url\"] = href\n",
    "            break\n",
    "    hemisphere_image_urls.append(data)\n",
    "\n",
    "# Close browser\n",
    "driver.quit()\n",
    "\n",
    "hemisphere_image_urls"
   ]
  },
  {
   "cell_type": "code",
   "execution_count": null,
   "metadata": {},
   "outputs": [],
   "source": [
    "# Step 2 - MongoDB and Flask Application\n"
   ]
  }
 ],
 "metadata": {
  "interpreter": {
   "hash": "1df487036755f0259a1d9037dcfe52f61a6deaec9b2b99ff46ad261589736629"
  },
  "kernelspec": {
   "display_name": "Python 3.8.7 64-bit",
   "language": "python",
   "name": "python3"
  },
  "language_info": {
   "codemirror_mode": {
    "name": "ipython",
    "version": 3
   },
   "file_extension": ".py",
   "mimetype": "text/x-python",
   "name": "python",
   "nbconvert_exporter": "python",
   "pygments_lexer": "ipython3",
   "version": "3.8.7"
  },
  "orig_nbformat": 4
 },
 "nbformat": 4,
 "nbformat_minor": 2
}
